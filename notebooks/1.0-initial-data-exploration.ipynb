{
 "cells": [
  {
   "cell_type": "markdown",
   "source": [
    "### Data Exploration"
   ],
   "metadata": {
    "collapsed": false
   },
   "id": "268a2edb3ad4678"
  },
  {
   "cell_type": "code",
   "execution_count": 1,
   "outputs": [],
   "source": [
    "import pandas as pd"
   ],
   "metadata": {
    "collapsed": false,
    "ExecuteTime": {
     "end_time": "2023-11-05T14:07:58.738885700Z",
     "start_time": "2023-11-05T14:07:58.214079100Z"
    }
   },
   "id": "b27b0a0c73ad562d"
  },
  {
   "cell_type": "code",
   "execution_count": 3,
   "outputs": [
    {
     "data": {
      "text/plain": "        Unnamed: 0                                          reference  \\\n0                0  If Alkar is flooding her with psychic waste, t...   \n1                1                          Now you're getting nasty.   \n2                2           Well, we could spare your life, for one.   \n3                3          Ah! Monkey, you've got to snap out of it.   \n4                4                   I've got orders to put her down.   \n...            ...                                                ...   \n577772      577772  You didn't know that Estelle had stolen some f...   \n577773      577773                    It'il suck the life out of you!   \n577774      577774                   I can't fuckin' take that, bruv.   \n577775      577775  They called me a fucking hero. The truth is I ...   \n577776      577776                               I did not screw him.   \n\n                                              translation  similarity  \\\n0       if Alkar floods her with her mental waste, it ...    0.785171   \n1                             you're becoming disgusting.    0.749687   \n2                           well, we can spare your life.    0.919051   \n3                            monkey, you have to wake up.    0.664333   \n4                              I have orders to kill her.    0.726639   \n...                                                   ...         ...   \n577772  you didn't know that Estelle stole your fish f...    0.870322   \n577773                  you'd be sucked out of your life!    0.722897   \n577774                          I really can't take this.    0.617511   \n577775         they said I was a hero, but I didn't care.    0.679613   \n577776                                 I didn't fuck him.    0.868475   \n\n        lenght_diff   ref_tox   trn_tox  \n0          0.010309  0.014195  0.981983  \n1          0.071429  0.065473  0.999039  \n2          0.268293  0.213313  0.985068  \n3          0.309524  0.053362  0.994215  \n4          0.181818  0.009402  0.999348  \n...             ...       ...       ...  \n577772     0.030769  0.000121  0.949143  \n577773     0.058824  0.996124  0.215794  \n577774     0.212121  0.984538  0.000049  \n577775     0.358209  0.991945  0.000124  \n577776     0.095238  0.009480  0.994174  \n\n[577777 rows x 7 columns]",
      "text/html": "<div>\n<style scoped>\n    .dataframe tbody tr th:only-of-type {\n        vertical-align: middle;\n    }\n\n    .dataframe tbody tr th {\n        vertical-align: top;\n    }\n\n    .dataframe thead th {\n        text-align: right;\n    }\n</style>\n<table border=\"1\" class=\"dataframe\">\n  <thead>\n    <tr style=\"text-align: right;\">\n      <th></th>\n      <th>Unnamed: 0</th>\n      <th>reference</th>\n      <th>translation</th>\n      <th>similarity</th>\n      <th>lenght_diff</th>\n      <th>ref_tox</th>\n      <th>trn_tox</th>\n    </tr>\n  </thead>\n  <tbody>\n    <tr>\n      <th>0</th>\n      <td>0</td>\n      <td>If Alkar is flooding her with psychic waste, t...</td>\n      <td>if Alkar floods her with her mental waste, it ...</td>\n      <td>0.785171</td>\n      <td>0.010309</td>\n      <td>0.014195</td>\n      <td>0.981983</td>\n    </tr>\n    <tr>\n      <th>1</th>\n      <td>1</td>\n      <td>Now you're getting nasty.</td>\n      <td>you're becoming disgusting.</td>\n      <td>0.749687</td>\n      <td>0.071429</td>\n      <td>0.065473</td>\n      <td>0.999039</td>\n    </tr>\n    <tr>\n      <th>2</th>\n      <td>2</td>\n      <td>Well, we could spare your life, for one.</td>\n      <td>well, we can spare your life.</td>\n      <td>0.919051</td>\n      <td>0.268293</td>\n      <td>0.213313</td>\n      <td>0.985068</td>\n    </tr>\n    <tr>\n      <th>3</th>\n      <td>3</td>\n      <td>Ah! Monkey, you've got to snap out of it.</td>\n      <td>monkey, you have to wake up.</td>\n      <td>0.664333</td>\n      <td>0.309524</td>\n      <td>0.053362</td>\n      <td>0.994215</td>\n    </tr>\n    <tr>\n      <th>4</th>\n      <td>4</td>\n      <td>I've got orders to put her down.</td>\n      <td>I have orders to kill her.</td>\n      <td>0.726639</td>\n      <td>0.181818</td>\n      <td>0.009402</td>\n      <td>0.999348</td>\n    </tr>\n    <tr>\n      <th>...</th>\n      <td>...</td>\n      <td>...</td>\n      <td>...</td>\n      <td>...</td>\n      <td>...</td>\n      <td>...</td>\n      <td>...</td>\n    </tr>\n    <tr>\n      <th>577772</th>\n      <td>577772</td>\n      <td>You didn't know that Estelle had stolen some f...</td>\n      <td>you didn't know that Estelle stole your fish f...</td>\n      <td>0.870322</td>\n      <td>0.030769</td>\n      <td>0.000121</td>\n      <td>0.949143</td>\n    </tr>\n    <tr>\n      <th>577773</th>\n      <td>577773</td>\n      <td>It'il suck the life out of you!</td>\n      <td>you'd be sucked out of your life!</td>\n      <td>0.722897</td>\n      <td>0.058824</td>\n      <td>0.996124</td>\n      <td>0.215794</td>\n    </tr>\n    <tr>\n      <th>577774</th>\n      <td>577774</td>\n      <td>I can't fuckin' take that, bruv.</td>\n      <td>I really can't take this.</td>\n      <td>0.617511</td>\n      <td>0.212121</td>\n      <td>0.984538</td>\n      <td>0.000049</td>\n    </tr>\n    <tr>\n      <th>577775</th>\n      <td>577775</td>\n      <td>They called me a fucking hero. The truth is I ...</td>\n      <td>they said I was a hero, but I didn't care.</td>\n      <td>0.679613</td>\n      <td>0.358209</td>\n      <td>0.991945</td>\n      <td>0.000124</td>\n    </tr>\n    <tr>\n      <th>577776</th>\n      <td>577776</td>\n      <td>I did not screw him.</td>\n      <td>I didn't fuck him.</td>\n      <td>0.868475</td>\n      <td>0.095238</td>\n      <td>0.009480</td>\n      <td>0.994174</td>\n    </tr>\n  </tbody>\n</table>\n<p>577777 rows × 7 columns</p>\n</div>"
     },
     "execution_count": 3,
     "metadata": {},
     "output_type": "execute_result"
    }
   ],
   "source": [
    "df = pd.read_csv('../data/raw/filtered.tsv', sep='\\t')\n",
    "df"
   ],
   "metadata": {
    "collapsed": false,
    "ExecuteTime": {
     "end_time": "2023-11-05T14:08:22.423244Z",
     "start_time": "2023-11-05T14:08:20.183573400Z"
    }
   },
   "id": "3189b2e5505092e4"
  },
  {
   "cell_type": "markdown",
   "source": [
    "Read .tsv file from \"/data/raw folder\"\n",
    "I have also deleted the first column and columns for similarity and length. I will not use them for now."
   ],
   "metadata": {
    "collapsed": false
   },
   "id": "42031b893312dde0"
  },
  {
   "cell_type": "code",
   "execution_count": 5,
   "id": "initial_id",
   "metadata": {
    "collapsed": true,
    "ExecuteTime": {
     "end_time": "2023-11-05T14:09:29.981652500Z",
     "start_time": "2023-11-05T14:09:29.861173300Z"
    }
   },
   "outputs": [
    {
     "data": {
      "text/plain": "                                           reference  \\\n0  If Alkar is flooding her with psychic waste, t...   \n1                          Now you're getting nasty.   \n2           Well, we could spare your life, for one.   \n3          Ah! Monkey, you've got to snap out of it.   \n4                   I've got orders to put her down.   \n\n                                         translation   ref_tox   trn_tox  \n0  if Alkar floods her with her mental waste, it ...  0.014195  0.981983  \n1                        you're becoming disgusting.  0.065473  0.999039  \n2                      well, we can spare your life.  0.213313  0.985068  \n3                       monkey, you have to wake up.  0.053362  0.994215  \n4                         I have orders to kill her.  0.009402  0.999348  ",
      "text/html": "<div>\n<style scoped>\n    .dataframe tbody tr th:only-of-type {\n        vertical-align: middle;\n    }\n\n    .dataframe tbody tr th {\n        vertical-align: top;\n    }\n\n    .dataframe thead th {\n        text-align: right;\n    }\n</style>\n<table border=\"1\" class=\"dataframe\">\n  <thead>\n    <tr style=\"text-align: right;\">\n      <th></th>\n      <th>reference</th>\n      <th>translation</th>\n      <th>ref_tox</th>\n      <th>trn_tox</th>\n    </tr>\n  </thead>\n  <tbody>\n    <tr>\n      <th>0</th>\n      <td>If Alkar is flooding her with psychic waste, t...</td>\n      <td>if Alkar floods her with her mental waste, it ...</td>\n      <td>0.014195</td>\n      <td>0.981983</td>\n    </tr>\n    <tr>\n      <th>1</th>\n      <td>Now you're getting nasty.</td>\n      <td>you're becoming disgusting.</td>\n      <td>0.065473</td>\n      <td>0.999039</td>\n    </tr>\n    <tr>\n      <th>2</th>\n      <td>Well, we could spare your life, for one.</td>\n      <td>well, we can spare your life.</td>\n      <td>0.213313</td>\n      <td>0.985068</td>\n    </tr>\n    <tr>\n      <th>3</th>\n      <td>Ah! Monkey, you've got to snap out of it.</td>\n      <td>monkey, you have to wake up.</td>\n      <td>0.053362</td>\n      <td>0.994215</td>\n    </tr>\n    <tr>\n      <th>4</th>\n      <td>I've got orders to put her down.</td>\n      <td>I have orders to kill her.</td>\n      <td>0.009402</td>\n      <td>0.999348</td>\n    </tr>\n  </tbody>\n</table>\n</div>"
     },
     "execution_count": 5,
     "metadata": {},
     "output_type": "execute_result"
    }
   ],
   "source": [
    "# delete unnamed column and columns for similarity and length\n",
    "df = df.drop(df.columns[0], axis=1)\n",
    "df = df.drop(df.columns[2], axis=1)\n",
    "df = df.drop(df.columns[2], axis=1)\n",
    "\n",
    "df.head()"
   ]
  },
  {
   "cell_type": "markdown",
   "source": [
    "The dataset consists of 577777 entries"
   ],
   "metadata": {
    "collapsed": false
   },
   "id": "63b3b9d1cb8f2dba"
  },
  {
   "cell_type": "code",
   "execution_count": 6,
   "outputs": [
    {
     "data": {
      "text/plain": "(577777, 4)"
     },
     "execution_count": 6,
     "metadata": {},
     "output_type": "execute_result"
    }
   ],
   "source": [
    "df.shape"
   ],
   "metadata": {
    "collapsed": false,
    "ExecuteTime": {
     "end_time": "2023-11-05T14:09:32.136719700Z",
     "start_time": "2023-11-05T14:09:32.121081500Z"
    }
   },
   "id": "444c57710bca3c7f"
  },
  {
   "cell_type": "markdown",
   "source": [
    "Check if translation is always more toxic than the original sentence"
   ],
   "metadata": {
    "collapsed": false
   },
   "id": "7418e16080c5bb59"
  },
  {
   "cell_type": "code",
   "execution_count": 7,
   "outputs": [
    {
     "name": "stdout",
     "output_type": "stream",
     "text": [
      "False    319142\n",
      "True     258635\n",
      "Name: count, dtype: int64\n"
     ]
    }
   ],
   "source": [
    "print((df['trn_tox'] >= df['ref_tox']).value_counts())"
   ],
   "metadata": {
    "collapsed": false,
    "ExecuteTime": {
     "end_time": "2023-11-05T14:09:34.532495700Z",
     "start_time": "2023-11-05T14:09:34.507656100Z"
    }
   },
   "id": "4e9c1bb5bb4e09a2"
  },
  {
   "cell_type": "markdown",
   "source": [
    "The data is not consistent. Reference is not always less toxic, so we need to change positions pairwise for values and sentences.\n",
    "The 6th pair is an example of this inconsistency."
   ],
   "metadata": {
    "collapsed": false
   },
   "id": "465d0af44a29d88b"
  },
  {
   "cell_type": "code",
   "execution_count": 8,
   "outputs": [
    {
     "data": {
      "text/plain": "                                           reference  \\\n0  If Alkar is flooding her with psychic waste, t...   \n1                          Now you're getting nasty.   \n2           Well, we could spare your life, for one.   \n3          Ah! Monkey, you've got to snap out of it.   \n4                   I've got orders to put her down.   \n5  I'm not gonna have a child... ...with the same...   \n\n                                         translation   ref_tox   trn_tox  \n0  if Alkar floods her with her mental waste, it ...  0.014195  0.981983  \n1                        you're becoming disgusting.  0.065473  0.999039  \n2                      well, we can spare your life.  0.213313  0.985068  \n3                       monkey, you have to wake up.  0.053362  0.994215  \n4                         I have orders to kill her.  0.009402  0.999348  \n5  I'm not going to breed kids with a genetic dis...  0.950956  0.035846  ",
      "text/html": "<div>\n<style scoped>\n    .dataframe tbody tr th:only-of-type {\n        vertical-align: middle;\n    }\n\n    .dataframe tbody tr th {\n        vertical-align: top;\n    }\n\n    .dataframe thead th {\n        text-align: right;\n    }\n</style>\n<table border=\"1\" class=\"dataframe\">\n  <thead>\n    <tr style=\"text-align: right;\">\n      <th></th>\n      <th>reference</th>\n      <th>translation</th>\n      <th>ref_tox</th>\n      <th>trn_tox</th>\n    </tr>\n  </thead>\n  <tbody>\n    <tr>\n      <th>0</th>\n      <td>If Alkar is flooding her with psychic waste, t...</td>\n      <td>if Alkar floods her with her mental waste, it ...</td>\n      <td>0.014195</td>\n      <td>0.981983</td>\n    </tr>\n    <tr>\n      <th>1</th>\n      <td>Now you're getting nasty.</td>\n      <td>you're becoming disgusting.</td>\n      <td>0.065473</td>\n      <td>0.999039</td>\n    </tr>\n    <tr>\n      <th>2</th>\n      <td>Well, we could spare your life, for one.</td>\n      <td>well, we can spare your life.</td>\n      <td>0.213313</td>\n      <td>0.985068</td>\n    </tr>\n    <tr>\n      <th>3</th>\n      <td>Ah! Monkey, you've got to snap out of it.</td>\n      <td>monkey, you have to wake up.</td>\n      <td>0.053362</td>\n      <td>0.994215</td>\n    </tr>\n    <tr>\n      <th>4</th>\n      <td>I've got orders to put her down.</td>\n      <td>I have orders to kill her.</td>\n      <td>0.009402</td>\n      <td>0.999348</td>\n    </tr>\n    <tr>\n      <th>5</th>\n      <td>I'm not gonna have a child... ...with the same...</td>\n      <td>I'm not going to breed kids with a genetic dis...</td>\n      <td>0.950956</td>\n      <td>0.035846</td>\n    </tr>\n  </tbody>\n</table>\n</div>"
     },
     "execution_count": 8,
     "metadata": {},
     "output_type": "execute_result"
    }
   ],
   "source": [
    "df.head(6)"
   ],
   "metadata": {
    "collapsed": false,
    "ExecuteTime": {
     "end_time": "2023-11-05T14:09:36.899204600Z",
     "start_time": "2023-11-05T14:09:36.875579300Z"
    }
   },
   "id": "a80414b7a297b156"
  }
 ],
 "metadata": {
  "kernelspec": {
   "display_name": "Python 3",
   "language": "python",
   "name": "python3"
  },
  "language_info": {
   "codemirror_mode": {
    "name": "ipython",
    "version": 2
   },
   "file_extension": ".py",
   "mimetype": "text/x-python",
   "name": "python",
   "nbconvert_exporter": "python",
   "pygments_lexer": "ipython2",
   "version": "2.7.6"
  }
 },
 "nbformat": 4,
 "nbformat_minor": 5
}
