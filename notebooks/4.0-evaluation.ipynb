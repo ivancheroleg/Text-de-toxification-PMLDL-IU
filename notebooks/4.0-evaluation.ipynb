{
 "cells": [
  {
   "cell_type": "markdown",
   "source": [
    "# Evaluating the model manually"
   ],
   "metadata": {
    "collapsed": false
   },
   "id": "1aa65f37ac82ca02"
  },
  {
   "cell_type": "code",
   "execution_count": 1,
   "id": "initial_id",
   "metadata": {
    "collapsed": true,
    "ExecuteTime": {
     "end_time": "2023-11-05T15:34:37.766350300Z",
     "start_time": "2023-11-05T15:34:36.623634Z"
    }
   },
   "outputs": [],
   "source": [
    "from transformers import AutoTokenizer, AutoModelForSeq2SeqLM"
   ]
  },
  {
   "cell_type": "code",
   "execution_count": 7,
   "outputs": [],
   "source": [
    "model_name = \"t5_small_tuned\"\n",
    "model_path = \"../models\"\n",
    "\n",
    "model = AutoModelForSeq2SeqLM.from_pretrained(model_path + \"/\" + model_name)\n",
    "model.eval()\n",
    "model.config.use_cache = False"
   ],
   "metadata": {
    "collapsed": false,
    "ExecuteTime": {
     "end_time": "2023-11-05T15:38:45.386607600Z",
     "start_time": "2023-11-05T15:38:41.628415500Z"
    }
   },
   "id": "4b42262aedd9f174"
  },
  {
   "cell_type": "code",
   "execution_count": 8,
   "outputs": [
    {
     "name": "stderr",
     "output_type": "stream",
     "text": [
      "Special tokens have been added in the vocabulary, make sure the associated word embeddings are fine-tuned or trained.\n"
     ]
    }
   ],
   "source": [
    "tokenizer = AutoTokenizer.from_pretrained(model_path + \"/\" + model_name)"
   ],
   "metadata": {
    "collapsed": false,
    "ExecuteTime": {
     "end_time": "2023-11-05T15:38:50.760579Z",
     "start_time": "2023-11-05T15:38:50.688963700Z"
    }
   },
   "id": "7a13aee8e04f0785"
  },
  {
   "cell_type": "code",
   "execution_count": 9,
   "outputs": [],
   "source": [
    "def translate(model, inference_request, tokenizer=tokenizer):\n",
    "    \"\"\"\n",
    "    Function for translation of the text\n",
    "    :param model: given model\n",
    "    :param inference_request: text to translate\n",
    "    :param tokenizer: tokenizer for the model\n",
    "    :return: translated text\n",
    "    \"\"\"\n",
    "\n",
    "    input_ids = tokenizer(inference_request, return_tensors=\"pt\").input_ids\n",
    "    outputs = model.generate(input_ids=input_ids)\n",
    "    return tokenizer.decode(outputs[0], skip_special_tokens=True,temperature=0)"
   ],
   "metadata": {
    "collapsed": false,
    "ExecuteTime": {
     "end_time": "2023-11-05T15:39:09.233856900Z",
     "start_time": "2023-11-05T15:39:09.228837500Z"
    }
   },
   "id": "6b1a6bbe5dba0ac4"
  },
  {
   "cell_type": "markdown",
   "source": [
    "Loading the dataset"
   ],
   "metadata": {
    "collapsed": false
   },
   "id": "ee29036426081b64"
  },
  {
   "cell_type": "code",
   "execution_count": 13,
   "outputs": [],
   "source": [
    "from datasets import load_from_disk\n",
    "\n",
    "dataset = load_from_disk(\"../data/interim/dataset\")"
   ],
   "metadata": {
    "collapsed": false,
    "ExecuteTime": {
     "end_time": "2023-11-05T15:40:47.586870Z",
     "start_time": "2023-11-05T15:40:46.206940200Z"
    }
   },
   "id": "1fe97e2744af016a"
  },
  {
   "cell_type": "code",
   "execution_count": 17,
   "outputs": [
    {
     "data": {
      "text/plain": "Map:   0%|          | 0/10 [00:00<?, ? examples/s]",
      "application/vnd.jupyter.widget-view+json": {
       "version_major": 2,
       "version_minor": 0,
       "model_id": "2a1eb1195db946f5b9c6d6b96b181f11"
      }
     },
     "metadata": {},
     "output_type": "display_data"
    },
    {
     "data": {
      "text/plain": "Map:   0%|          | 0/10 [00:00<?, ? examples/s]",
      "application/vnd.jupyter.widget-view+json": {
       "version_major": 2,
       "version_minor": 0,
       "model_id": "61ce73781d2641e1874f1afafd7968b6"
      }
     },
     "metadata": {},
     "output_type": "display_data"
    }
   ],
   "source": [
    "cropped_datasets = dataset\n",
    "cropped_datasets['train'] = dataset['train'].select(range(10))\n",
    "cropped_datasets['test'] = dataset['test'].select(range(10))"
   ],
   "metadata": {
    "collapsed": false,
    "ExecuteTime": {
     "end_time": "2023-11-05T15:41:28.736313Z",
     "start_time": "2023-11-05T15:41:28.596750400Z"
    }
   },
   "id": "6543592c234b824f"
  },
  {
   "cell_type": "markdown",
   "source": [
    "# Translating the text"
   ],
   "metadata": {
    "collapsed": false
   },
   "id": "50c162f7e105c447"
  },
  {
   "cell_type": "code",
   "execution_count": 19,
   "outputs": [
    {
     "name": "stdout",
     "output_type": "stream",
     "text": [
      "-------------------\n",
      "i'm not gonna have a child... ...with the same genetic disorder as me who's gonna die. l...\n",
      "i'm not going to have a baby with a genetic disorder as i\n",
      "-------------------\n",
      "they're all laughing at us, so we'll kick your ass.\n",
      "they're laughing at us, so we'll cut your neck.\n",
      "-------------------\n",
      "maine was very short on black people back then.\n",
      "the maine was very short black on black people.\n"
     ]
    }
   ],
   "source": [
    "for i in range(5, 8):\n",
    "    text = cropped_datasets['train']['translation'][i]['toxic']\n",
    "    print('-------------------')\n",
    "    print(text)\n",
    "    print(translate(model, text, tokenizer))"
   ],
   "metadata": {
    "collapsed": false,
    "ExecuteTime": {
     "end_time": "2023-11-05T15:42:41.433015800Z",
     "start_time": "2023-11-05T15:42:40.427608500Z"
    }
   },
   "id": "609f9875cf3c9984"
  },
  {
   "cell_type": "markdown",
   "source": [
    "Test set is more difficult to translate"
   ],
   "metadata": {
    "collapsed": false
   },
   "id": "dcbca7f5f1bbc4"
  },
  {
   "cell_type": "code",
   "execution_count": 20,
   "outputs": [
    {
     "name": "stdout",
     "output_type": "stream",
     "text": [
      "-------------------\n",
      "i'm trying to say that if a guy is 40 and he's not married... he's either a crook or a faggot.\n",
      "if he's 40 years old, he's either a cro\n",
      "-------------------\n",
      "\"i hope you choke on it!\"\n",
      "\"i hope you choke on it!\"\n",
      "-------------------\n",
      "then he ran his wand over edward's naked chest.\n",
      "then he ran his wand over edward's chest.\n"
     ]
    }
   ],
   "source": [
    "for i in range(5, 8):\n",
    "    text = cropped_datasets['test']['translation'][i]['toxic']\n",
    "    print('-------------------')\n",
    "    print(text)\n",
    "    print(translate(model, text, tokenizer))"
   ],
   "metadata": {
    "collapsed": false,
    "ExecuteTime": {
     "end_time": "2023-11-05T15:43:03.984547100Z",
     "start_time": "2023-11-05T15:43:02.906294900Z"
    }
   },
   "id": "34e9b29ee06e7438"
  }
 ],
 "metadata": {
  "kernelspec": {
   "display_name": "Python 3",
   "language": "python",
   "name": "python3"
  },
  "language_info": {
   "codemirror_mode": {
    "name": "ipython",
    "version": 2
   },
   "file_extension": ".py",
   "mimetype": "text/x-python",
   "name": "python",
   "nbconvert_exporter": "python",
   "pygments_lexer": "ipython2",
   "version": "2.7.6"
  }
 },
 "nbformat": 4,
 "nbformat_minor": 5
}
